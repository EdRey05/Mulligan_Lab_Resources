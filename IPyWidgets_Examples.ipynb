{
 "cells": [
  {
   "cell_type": "markdown",
   "metadata": {},
   "source": [
    "# Examples of different options to generate interactive widgets in Python using IPyWidgets"
   ]
  },
  {
   "cell_type": "markdown",
   "metadata": {},
   "source": [
    "## Example 1 - Interactive curve fitting"
   ]
  },
  {
   "cell_type": "code",
   "execution_count": null,
   "metadata": {
    "jupyter": {
     "source_hidden": true
    }
   },
   "outputs": [],
   "source": [
    "#Example 1 - Interactive curve fitting\n",
    "#https://towardsdatascience.com/a-very-simple-demo-of-interactive-controls-on-jupyter-notebook-4429cf46aabd\n",
    "#https://github.com/tirthajyoti/Interactive_Machine_Learning/blob/master/Curve_fit_widget_1.ipynb\n",
    "\n",
    "from ipywidgets import interact, interactive, fixed, interact_manual\n",
    "import ipywidgets as widgets\n",
    "from IPython.display import display\n",
    "\n",
    "import numpy as np\n",
    "import matplotlib.pyplot as plt\n",
    "#%matplotlib inline\n",
    "\n",
    "import pandas as pd\n",
    "\n",
    "from scipy.optimize import curve_fit as cf\n",
    "\n",
    "N_samples = 25\n",
    "x=np.linspace(-2,2,N_samples)\n",
    "\n",
    "def f(x,a,mu,sigma):\n",
    "    r=a*np.exp(-(x-mu)**2/(2*sigma**2))\n",
    "    return (r)\n",
    "\n",
    "def func(amplitude,ideal_mu,ideal_sigma,noise_sd,noise_mean):\n",
    "    r=amplitude*np.exp(-(x-ideal_mu)**2/(2*ideal_sigma**2))\n",
    "    plt.figure(figsize=(8,5))\n",
    "    plt.plot(x,r,c='k',lw=3)\n",
    "    r= r+np.random.normal(loc=noise_mean,scale=noise_sd,size=N_samples)\n",
    "    plt.scatter(x,r,edgecolors='k',c='yellow',s=60)\n",
    "    plt.grid(True)\n",
    "    plt.show()\n",
    "    return (r)\n",
    "\n",
    "y=interactive(func,amplitude=[1,2,3,4,5],ideal_mu=(-5,5,0.5),\n",
    "              ideal_sigma=(0,2,0.2),\n",
    "              noise_sd=(0,1,0.1),noise_mean=(-1,1,0.2))\n",
    "display(y)\n",
    "\n",
    "#This has to be the last output of a code block, otherwise next steps don't wait\n",
    "#for this to be set"
   ]
  },
  {
   "cell_type": "markdown",
   "metadata": {},
   "source": [
    "## Example 2 - "
   ]
  },
  {
   "cell_type": "code",
   "execution_count": 8,
   "metadata": {
    "jupyter": {
     "source_hidden": true
    }
   },
   "outputs": [
    {
     "data": {
      "application/vnd.jupyter.widget-view+json": {
       "model_id": "97e6890dd7964283a92ce8d072288ce0",
       "version_major": 2,
       "version_minor": 0
      },
      "text/plain": [
       "FloatSlider(value=0.0)"
      ]
     },
     "metadata": {},
     "output_type": "display_data"
    }
   ],
   "source": [
    "#\n",
    "#https://towardsdatascience.com/interactive-spreadsheets-in-jupyter-32ab6ec0f4ff\n",
    "#https://hub.gke2.mybinder.org/user/quantstack-ipysheet-63e7irpo/notebooks/examples/widget_cell.ipynb\n",
    "\n",
    "from ipywidgets import FloatSlider, IntSlider, Image\n",
    "import ipysheet\n",
    "\n",
    "slider = FloatSlider()\n",
    "slider"
   ]
  },
  {
   "cell_type": "code",
   "execution_count": 9,
   "metadata": {
    "jupyter": {
     "source_hidden": true
    }
   },
   "outputs": [
    {
     "data": {
      "application/vnd.jupyter.widget-view+json": {
       "model_id": "a9c878f6850d4ac3b67d5d99dfb8f50b",
       "version_major": 2,
       "version_minor": 0
      },
      "text/plain": [
       "Sheet(cells=(Cell(column_end=0, column_start=0, row_end=0, row_start=0, style={'min-width': '150px'}, type='wi…"
      ]
     },
     "metadata": {},
     "output_type": "display_data"
    }
   ],
   "source": [
    "sheet = ipysheet.sheet()\n",
    "\n",
    "cell1 = ipysheet.cell(0, 0, slider, style={'min-width': '150px'})\n",
    "cell3 = ipysheet.cell(2, 2, 42.)\n",
    "cell_sum = ipysheet.cell(3, 2, 42.)\n",
    "\n",
    "@ipysheet.calculation(inputs=[(cell1, 'value'), cell3], output=cell_sum)\n",
    "def calculate(a, b):\n",
    "    return a + b\n",
    "\n",
    "sheet"
   ]
  },
  {
   "cell_type": "code",
   "execution_count": 10,
   "metadata": {
    "jupyter": {
     "source_hidden": true
    }
   },
   "outputs": [
    {
     "data": {
      "application/vnd.jupyter.widget-view+json": {
       "model_id": "b4e5ea852e374abb8f051bafd2795e4c",
       "version_major": 2,
       "version_minor": 0
      },
      "text/plain": [
       "IntSlider(value=0)"
      ]
     },
     "metadata": {},
     "output_type": "display_data"
    }
   ],
   "source": [
    "slider2 = IntSlider()\n",
    "cell1.value = slider2\n",
    "slider2"
   ]
  },
  {
   "cell_type": "code",
   "execution_count": 11,
   "metadata": {
    "jupyter": {
     "source_hidden": true
    }
   },
   "outputs": [
    {
     "data": {
      "application/vnd.jupyter.widget-view+json": {
       "model_id": "372bfff96ea04159a239fab5ba8efad5",
       "version_major": 2,
       "version_minor": 0
      },
      "text/plain": [
       "Sheet(cells=(Cell(column_end=0, column_start=0, row_end=4, row_start=0, squeeze_row=False, type='widget', valu…"
      ]
     },
     "metadata": {},
     "output_type": "display_data"
    }
   ],
   "source": [
    "sheet = ipysheet.sheet()\n",
    "\n",
    "column1 = ipysheet.column(0, [FloatSlider() for _ in range(5)])\n",
    "column2 = ipysheet.column(1, [1.] * 5)\n",
    "\n",
    "sheet"
   ]
  },
  {
   "cell_type": "code",
   "execution_count": null,
   "metadata": {
    "jupyter": {
     "source_hidden": true
    }
   },
   "outputs": [],
   "source": [
    "column1.value = column1.value[:-1] + [IntSlider()]"
   ]
  },
  {
   "cell_type": "code",
   "execution_count": null,
   "metadata": {
    "jupyter": {
     "source_hidden": true
    }
   },
   "outputs": [],
   "source": [
    "ipysheet.to_dataframe(sheet)"
   ]
  },
  {
   "cell_type": "code",
   "execution_count": null,
   "metadata": {
    "jupyter": {
     "source_hidden": true
    }
   },
   "outputs": [],
   "source": [
    "sheet = ipysheet.sheet()\n",
    "\n",
    "column1 = ipysheet.column(0, [Image.from_url('./image.png') for _ in range(5)], style={'min-width': '60px', 'min-height': '50px'})\n",
    "column2 = ipysheet.column(1, [1.] * 5)\n",
    "\n",
    "sheet"
   ]
  },
  {
   "cell_type": "markdown",
   "metadata": {},
   "source": [
    "## Example 3"
   ]
  },
  {
   "cell_type": "code",
   "execution_count": null,
   "metadata": {},
   "outputs": [],
   "source": []
  }
 ],
 "metadata": {
  "kernelspec": {
   "display_name": "Python 3",
   "language": "python",
   "name": "python3"
  },
  "language_info": {
   "codemirror_mode": {
    "name": "ipython",
    "version": 3
   },
   "file_extension": ".py",
   "mimetype": "text/x-python",
   "name": "python",
   "nbconvert_exporter": "python",
   "pygments_lexer": "ipython3",
   "version": "3.8.3"
  }
 },
 "nbformat": 4,
 "nbformat_minor": 4
}
